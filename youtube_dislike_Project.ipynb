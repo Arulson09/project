{
 "cells": [
  {
   "cell_type": "markdown",
   "id": "bedd0625-8153-493f-b8b7-30ba1967f710",
   "metadata": {},
   "source": [
    "# <div style=\"text-align:center;\">Python Project</div>"
   ]
  },
  {
   "cell_type": "markdown",
   "id": "b93635bb-78b3-4343-be75-6de31536c86d",
   "metadata": {},
   "source": [
    "## <div style=\"text-align:center;\">Title:</div>"
   ]
  },
  {
   "cell_type": "markdown",
   "id": "5498dc75-69ad-4606-bc5e-73cefd4930a2",
   "metadata": {},
   "source": [
    "# <div style=\"text-align:center;\">Youtube Dislike Project</div>"
   ]
  },
  {
   "cell_type": "markdown",
   "id": "9b4ba919-c137-4cdb-b914-7d3a593190bb",
   "metadata": {},
   "source": [
    "## 1. Import required libraries and read the provided dataset (youtube_dislike_dataset.csv) and retrieve top 5 and bottom 5 records.\n"
   ]
  },
  {
   "cell_type": "code",
   "execution_count": 2,
   "id": "34573803-3fcb-4aed-aa40-45fbba085d40",
   "metadata": {},
   "outputs": [],
   "source": [
    "import pandas as pd\n",
    "import numpy as np\n",
    "import matplotlib.pyplot as plt\n",
    "%matplotlib inline"
   ]
  },
  {
   "cell_type": "code",
   "execution_count": 3,
   "id": "5bf17726-222b-4370-b29e-5725c7fcfd57",
   "metadata": {},
   "outputs": [],
   "source": [
    "df=pd.read_csv('youtube_dislike_dataset.csv')"
   ]
  },
  {
   "cell_type": "markdown",
   "id": "e153593b-d5a4-41bf-a924-fec89a2468af",
   "metadata": {},
   "source": [
    "Top 5 Records"
   ]
  },
  {
   "cell_type": "code",
   "execution_count": 4,
   "id": "e9f2c9d0-e50d-42f6-9e00-1a783e2c1530",
   "metadata": {},
   "outputs": [
    {
     "data": {
      "text/html": [
       "<div>\n",
       "<style scoped>\n",
       "    .dataframe tbody tr th:only-of-type {\n",
       "        vertical-align: middle;\n",
       "    }\n",
       "\n",
       "    .dataframe tbody tr th {\n",
       "        vertical-align: top;\n",
       "    }\n",
       "\n",
       "    .dataframe thead th {\n",
       "        text-align: right;\n",
       "    }\n",
       "</style>\n",
       "<table border=\"1\" class=\"dataframe\">\n",
       "  <thead>\n",
       "    <tr style=\"text-align: right;\">\n",
       "      <th></th>\n",
       "      <th>video_id</th>\n",
       "      <th>title</th>\n",
       "      <th>channel_id</th>\n",
       "      <th>channel_title</th>\n",
       "      <th>published_at</th>\n",
       "      <th>view_count</th>\n",
       "      <th>likes</th>\n",
       "      <th>dislikes</th>\n",
       "      <th>comment_count</th>\n",
       "      <th>tags</th>\n",
       "      <th>description</th>\n",
       "      <th>comments</th>\n",
       "    </tr>\n",
       "  </thead>\n",
       "  <tbody>\n",
       "    <tr>\n",
       "      <th>0</th>\n",
       "      <td>--0bCF-iK2E</td>\n",
       "      <td>Jadon Sancho  Magical Skills &amp; Goals</td>\n",
       "      <td>UC6UL29enLNe4mqwTfAyeNuw</td>\n",
       "      <td>Bundesliga</td>\n",
       "      <td>2021-07-01 10:00:00</td>\n",
       "      <td>1048888</td>\n",
       "      <td>19515</td>\n",
       "      <td>226</td>\n",
       "      <td>1319</td>\n",
       "      <td>football soccer ftbol alemn Bundesliga season ...</td>\n",
       "      <td>Enjoy the best skills and goals from Jadon San...</td>\n",
       "      <td>Respect to Dortmund fans,must be sad losing hi...</td>\n",
       "    </tr>\n",
       "    <tr>\n",
       "      <th>1</th>\n",
       "      <td>--14w5SOEUs</td>\n",
       "      <td>Migos - Avalanche (Official Video)</td>\n",
       "      <td>UCGIelM2Dj3zza3xyV3pL3WQ</td>\n",
       "      <td>MigosVEVO</td>\n",
       "      <td>2021-06-10 16:00:00</td>\n",
       "      <td>15352638</td>\n",
       "      <td>359277</td>\n",
       "      <td>7479</td>\n",
       "      <td>18729</td>\n",
       "      <td>Migos Avalanche Quality Control Music/Motown R...</td>\n",
       "      <td>Watch the the official video for Migos - \"Aval...</td>\n",
       "      <td>Migos just makes me want to live my live to th...</td>\n",
       "    </tr>\n",
       "    <tr>\n",
       "      <th>2</th>\n",
       "      <td>--40TEbZ9Is</td>\n",
       "      <td>Supporting Actress in a Comedy: 73rd Emmys</td>\n",
       "      <td>UClBKH8yZRcM4AsRjDVEdjMg</td>\n",
       "      <td>Television Academy</td>\n",
       "      <td>2021-09-20 01:03:32</td>\n",
       "      <td>925281</td>\n",
       "      <td>11212</td>\n",
       "      <td>401</td>\n",
       "      <td>831</td>\n",
       "      <td></td>\n",
       "      <td>Hannah Waddingham wins the Emmy for Supporting...</td>\n",
       "      <td>Hannah's energy bursts through any screen. Wel...</td>\n",
       "    </tr>\n",
       "    <tr>\n",
       "      <th>3</th>\n",
       "      <td>--4tfbSyYDE</td>\n",
       "      <td>JO1'YOUNG (JO1 ver.)' PERFORMANCE VIDEO</td>\n",
       "      <td>UCsmXiDP8S40uBeJYxvyulmA</td>\n",
       "      <td>JO1</td>\n",
       "      <td>2021-03-03 10:00:17</td>\n",
       "      <td>2641597</td>\n",
       "      <td>39131</td>\n",
       "      <td>441</td>\n",
       "      <td>3745</td>\n",
       "      <td>PRODUCE101JAPAN              JO1   TheSTAR STA...</td>\n",
       "      <td>JO1'YOUNG (JO1 ver.)' PERFORMANCE VIDEO\\n\\n---...</td>\n",
       "      <td>youngVer&gt;&lt;  REN is really PERFECT. It's not ju...</td>\n",
       "    </tr>\n",
       "    <tr>\n",
       "      <th>4</th>\n",
       "      <td>--DKkzWVh-E</td>\n",
       "      <td>Why Retaining Walls Collapse</td>\n",
       "      <td>UCMOqf8ab-42UUQIdVoKwjlQ</td>\n",
       "      <td>Practical Engineering</td>\n",
       "      <td>2021-12-07 13:00:00</td>\n",
       "      <td>715724</td>\n",
       "      <td>32887</td>\n",
       "      <td>367</td>\n",
       "      <td>1067</td>\n",
       "      <td>retaining wall New Jersey highway Direct Conne...</td>\n",
       "      <td>One of the most important (and innocuous) part...</td>\n",
       "      <td>Keep up with all my projects here: https://pr...</td>\n",
       "    </tr>\n",
       "  </tbody>\n",
       "</table>\n",
       "</div>"
      ],
      "text/plain": [
       "      video_id                                       title  \\\n",
       "0  --0bCF-iK2E        Jadon Sancho  Magical Skills & Goals   \n",
       "1  --14w5SOEUs          Migos - Avalanche (Official Video)   \n",
       "2  --40TEbZ9Is  Supporting Actress in a Comedy: 73rd Emmys   \n",
       "3  --4tfbSyYDE     JO1'YOUNG (JO1 ver.)' PERFORMANCE VIDEO   \n",
       "4  --DKkzWVh-E                Why Retaining Walls Collapse   \n",
       "\n",
       "                 channel_id          channel_title         published_at  \\\n",
       "0  UC6UL29enLNe4mqwTfAyeNuw             Bundesliga  2021-07-01 10:00:00   \n",
       "1  UCGIelM2Dj3zza3xyV3pL3WQ              MigosVEVO  2021-06-10 16:00:00   \n",
       "2  UClBKH8yZRcM4AsRjDVEdjMg     Television Academy  2021-09-20 01:03:32   \n",
       "3  UCsmXiDP8S40uBeJYxvyulmA                    JO1  2021-03-03 10:00:17   \n",
       "4  UCMOqf8ab-42UUQIdVoKwjlQ  Practical Engineering  2021-12-07 13:00:00   \n",
       "\n",
       "   view_count   likes  dislikes  comment_count  \\\n",
       "0     1048888   19515       226           1319   \n",
       "1    15352638  359277      7479          18729   \n",
       "2      925281   11212       401            831   \n",
       "3     2641597   39131       441           3745   \n",
       "4      715724   32887       367           1067   \n",
       "\n",
       "                                                tags  \\\n",
       "0  football soccer ftbol alemn Bundesliga season ...   \n",
       "1  Migos Avalanche Quality Control Music/Motown R...   \n",
       "2                                                      \n",
       "3  PRODUCE101JAPAN              JO1   TheSTAR STA...   \n",
       "4  retaining wall New Jersey highway Direct Conne...   \n",
       "\n",
       "                                         description  \\\n",
       "0  Enjoy the best skills and goals from Jadon San...   \n",
       "1  Watch the the official video for Migos - \"Aval...   \n",
       "2  Hannah Waddingham wins the Emmy for Supporting...   \n",
       "3  JO1'YOUNG (JO1 ver.)' PERFORMANCE VIDEO\\n\\n---...   \n",
       "4  One of the most important (and innocuous) part...   \n",
       "\n",
       "                                            comments  \n",
       "0  Respect to Dortmund fans,must be sad losing hi...  \n",
       "1  Migos just makes me want to live my live to th...  \n",
       "2  Hannah's energy bursts through any screen. Wel...  \n",
       "3  youngVer><  REN is really PERFECT. It's not ju...  \n",
       "4   Keep up with all my projects here: https://pr...  "
      ]
     },
     "execution_count": 4,
     "metadata": {},
     "output_type": "execute_result"
    }
   ],
   "source": [
    "df.head(5)"
   ]
  },
  {
   "cell_type": "markdown",
   "id": "681302d6-637b-4ba3-87f7-b168e1622bdf",
   "metadata": {},
   "source": [
    " Bottom 5 Records"
   ]
  },
  {
   "cell_type": "code",
   "execution_count": 5,
   "id": "4a782cd4-aa9b-435c-aa44-5281d15d1d88",
   "metadata": {},
   "outputs": [
    {
     "data": {
      "text/html": [
       "<div>\n",
       "<style scoped>\n",
       "    .dataframe tbody tr th:only-of-type {\n",
       "        vertical-align: middle;\n",
       "    }\n",
       "\n",
       "    .dataframe tbody tr th {\n",
       "        vertical-align: top;\n",
       "    }\n",
       "\n",
       "    .dataframe thead th {\n",
       "        text-align: right;\n",
       "    }\n",
       "</style>\n",
       "<table border=\"1\" class=\"dataframe\">\n",
       "  <thead>\n",
       "    <tr style=\"text-align: right;\">\n",
       "      <th></th>\n",
       "      <th>video_id</th>\n",
       "      <th>title</th>\n",
       "      <th>channel_id</th>\n",
       "      <th>channel_title</th>\n",
       "      <th>published_at</th>\n",
       "      <th>view_count</th>\n",
       "      <th>likes</th>\n",
       "      <th>dislikes</th>\n",
       "      <th>comment_count</th>\n",
       "      <th>tags</th>\n",
       "      <th>description</th>\n",
       "      <th>comments</th>\n",
       "    </tr>\n",
       "  </thead>\n",
       "  <tbody>\n",
       "    <tr>\n",
       "      <th>37417</th>\n",
       "      <td>zzd4ydafGR0</td>\n",
       "      <td>Lil Tjay - Calling My Phone (feat. 6LACK) [Off...</td>\n",
       "      <td>UCEB4a5o_6KfjxHwNMnmj54Q</td>\n",
       "      <td>Lil Tjay</td>\n",
       "      <td>2021-02-12 05:03:49</td>\n",
       "      <td>120408275</td>\n",
       "      <td>2180780</td>\n",
       "      <td>35871</td>\n",
       "      <td>81360</td>\n",
       "      <td>Lil Tjay Steady Calling My Phone Calling My Ph...</td>\n",
       "      <td>Official video for \"Calling My Phone\" by Lil T...</td>\n",
       "      <td>'DESTINED 2 WIN' OUT NOW !! https://liltjay.ln...</td>\n",
       "    </tr>\n",
       "    <tr>\n",
       "      <th>37418</th>\n",
       "      <td>zziBybeSAtw</td>\n",
       "      <td>PELICANS at LAKERS | FULL GAME HIGHLIGHTS | Ja...</td>\n",
       "      <td>UCWJ2lWNubArHWmf3FIHbfcQ</td>\n",
       "      <td>NBA</td>\n",
       "      <td>2021-01-16 05:39:05</td>\n",
       "      <td>2841917</td>\n",
       "      <td>20759</td>\n",
       "      <td>1049</td>\n",
       "      <td>2624</td>\n",
       "      <td>NBA G League Basketball game-0022000187 Lakers...</td>\n",
       "      <td>PELICANS at LAKERS | FULL GAME HIGHLIGHTS | Ja...</td>\n",
       "      <td>Montrezl Harrell is going crazy with the rebou...</td>\n",
       "    </tr>\n",
       "    <tr>\n",
       "      <th>37419</th>\n",
       "      <td>zzk09ESX7e0</td>\n",
       "      <td>[MV]  (MAMAMOO) - Where Are We Now</td>\n",
       "      <td>UCuhAUMLzJxlP1W7mEk0_6lA</td>\n",
       "      <td>MAMAMOO</td>\n",
       "      <td>2021-06-02 09:00:10</td>\n",
       "      <td>13346678</td>\n",
       "      <td>720854</td>\n",
       "      <td>4426</td>\n",
       "      <td>90616</td>\n",
       "      <td>MAMAMOO  WAW  WAW MAMAMOO WAW Where Are We Now...</td>\n",
       "      <td>[MV]  (MAMAMOO) - Where Are We Now\\n\\nInstagra...</td>\n",
       "      <td>I honestly do not know why this song hit so ha...</td>\n",
       "    </tr>\n",
       "    <tr>\n",
       "      <th>37420</th>\n",
       "      <td>zzmQEb0Em5I</td>\n",
       "      <td>FELLIPE ESCUDERO- Master Podcast  #12</td>\n",
       "      <td>UC8NjnNWMsRqq11NYvHAQb1g</td>\n",
       "      <td>Master Podcast</td>\n",
       "      <td>2020-10-20 20:59:30</td>\n",
       "      <td>252057</td>\n",
       "      <td>19198</td>\n",
       "      <td>1234</td>\n",
       "      <td>1471</td>\n",
       "      <td>master masterpodcast lord lord vinheteiro z z ...</td>\n",
       "      <td>DOCTOR HAIR\\nhttps://www.thedoctorhair.com/?fb...</td>\n",
       "      <td>Foi um prazer passar esta tarde com vocs debat...</td>\n",
       "    </tr>\n",
       "    <tr>\n",
       "      <th>37421</th>\n",
       "      <td>zzxPZwaA-8w</td>\n",
       "      <td>Gareth Bale brace secures dramatic comeback on...</td>\n",
       "      <td>UCEg25rdRZXg32iwai6N6l0w</td>\n",
       "      <td>Tottenham Hotspur</td>\n",
       "      <td>2021-05-23 21:00:31</td>\n",
       "      <td>2252090</td>\n",
       "      <td>34063</td>\n",
       "      <td>868</td>\n",
       "      <td>2004</td>\n",
       "      <td>Spurs Tottenham Hotspur   Tottenham Leicester ...</td>\n",
       "      <td>Two minute highlights from Tottenham Hotspur's...</td>\n",
       "      <td>Thank you Kane for everything you have given t...</td>\n",
       "    </tr>\n",
       "  </tbody>\n",
       "</table>\n",
       "</div>"
      ],
      "text/plain": [
       "          video_id                                              title  \\\n",
       "37417  zzd4ydafGR0  Lil Tjay - Calling My Phone (feat. 6LACK) [Off...   \n",
       "37418  zziBybeSAtw  PELICANS at LAKERS | FULL GAME HIGHLIGHTS | Ja...   \n",
       "37419  zzk09ESX7e0                 [MV]  (MAMAMOO) - Where Are We Now   \n",
       "37420  zzmQEb0Em5I              FELLIPE ESCUDERO- Master Podcast  #12   \n",
       "37421  zzxPZwaA-8w  Gareth Bale brace secures dramatic comeback on...   \n",
       "\n",
       "                     channel_id      channel_title         published_at  \\\n",
       "37417  UCEB4a5o_6KfjxHwNMnmj54Q           Lil Tjay  2021-02-12 05:03:49   \n",
       "37418  UCWJ2lWNubArHWmf3FIHbfcQ                NBA  2021-01-16 05:39:05   \n",
       "37419  UCuhAUMLzJxlP1W7mEk0_6lA            MAMAMOO  2021-06-02 09:00:10   \n",
       "37420  UC8NjnNWMsRqq11NYvHAQb1g     Master Podcast  2020-10-20 20:59:30   \n",
       "37421  UCEg25rdRZXg32iwai6N6l0w  Tottenham Hotspur  2021-05-23 21:00:31   \n",
       "\n",
       "       view_count    likes  dislikes  comment_count  \\\n",
       "37417   120408275  2180780     35871          81360   \n",
       "37418     2841917    20759      1049           2624   \n",
       "37419    13346678   720854      4426          90616   \n",
       "37420      252057    19198      1234           1471   \n",
       "37421     2252090    34063       868           2004   \n",
       "\n",
       "                                                    tags  \\\n",
       "37417  Lil Tjay Steady Calling My Phone Calling My Ph...   \n",
       "37418  NBA G League Basketball game-0022000187 Lakers...   \n",
       "37419  MAMAMOO  WAW  WAW MAMAMOO WAW Where Are We Now...   \n",
       "37420  master masterpodcast lord lord vinheteiro z z ...   \n",
       "37421  Spurs Tottenham Hotspur   Tottenham Leicester ...   \n",
       "\n",
       "                                             description  \\\n",
       "37417  Official video for \"Calling My Phone\" by Lil T...   \n",
       "37418  PELICANS at LAKERS | FULL GAME HIGHLIGHTS | Ja...   \n",
       "37419  [MV]  (MAMAMOO) - Where Are We Now\\n\\nInstagra...   \n",
       "37420  DOCTOR HAIR\\nhttps://www.thedoctorhair.com/?fb...   \n",
       "37421  Two minute highlights from Tottenham Hotspur's...   \n",
       "\n",
       "                                                comments  \n",
       "37417  'DESTINED 2 WIN' OUT NOW !! https://liltjay.ln...  \n",
       "37418  Montrezl Harrell is going crazy with the rebou...  \n",
       "37419  I honestly do not know why this song hit so ha...  \n",
       "37420  Foi um prazer passar esta tarde com vocs debat...  \n",
       "37421  Thank you Kane for everything you have given t...  "
      ]
     },
     "execution_count": 5,
     "metadata": {},
     "output_type": "execute_result"
    }
   ],
   "source": [
    "df.tail(5)"
   ]
  },
  {
   "cell_type": "markdown",
   "id": "bb795601-301a-436a-ac8e-bd3996c8c730",
   "metadata": {},
   "source": [
    "## 2. Check the info of the dataframe and write your inferences on data types and shape of the dataset."
   ]
  },
  {
   "cell_type": "code",
   "execution_count": 6,
   "id": "ee1a6070-867a-4291-a100-7a734530502f",
   "metadata": {
    "scrolled": true
   },
   "outputs": [
    {
     "name": "stdout",
     "output_type": "stream",
     "text": [
      "<class 'pandas.core.frame.DataFrame'>\n",
      "RangeIndex: 37422 entries, 0 to 37421\n",
      "Data columns (total 12 columns):\n",
      " #   Column         Non-Null Count  Dtype \n",
      "---  ------         --------------  ----- \n",
      " 0   video_id       37422 non-null  object\n",
      " 1   title          37422 non-null  object\n",
      " 2   channel_id     37422 non-null  object\n",
      " 3   channel_title  37422 non-null  object\n",
      " 4   published_at   37422 non-null  object\n",
      " 5   view_count     37422 non-null  int64 \n",
      " 6   likes          37422 non-null  int64 \n",
      " 7   dislikes       37422 non-null  int64 \n",
      " 8   comment_count  37422 non-null  int64 \n",
      " 9   tags           37422 non-null  object\n",
      " 10  description    37422 non-null  object\n",
      " 11  comments       37264 non-null  object\n",
      "dtypes: int64(4), object(8)\n",
      "memory usage: 3.4+ MB\n"
     ]
    }
   ],
   "source": [
    "df.info()"
   ]
  },
  {
   "cell_type": "markdown",
   "id": "d15be226-52c0-488d-98d3-40af90707ab1",
   "metadata": {},
   "source": [
    "#### Inferences:"
   ]
  },
  {
   "cell_type": "markdown",
   "id": "7c166f42-b8fa-4b27-8bc2-213645cdf008",
   "metadata": {},
   "source": [
    "##### The dataset consists of both numerical (int64) and object (string) data types.\n",
    "##### view_count, likes, dislikes, and comment_count are numerical columns.\n",
    "##### video_id, title, channel_id, channel_title, published_at, tags, description, and comments are object columns, representing string or text data.\n",
    "##### There are no null values in most columns (non-null count is 37,422 for most columns).\n",
    "##### The 'comments' column has some missing values (non-null count is 37,264), indicating 158 missing entries.."
   ]
  },
  {
   "cell_type": "markdown",
   "id": "2d8a457a-bd77-4c71-a92c-5afab7e6c1b9",
   "metadata": {},
   "source": [
    "### Shape of the Dataset."
   ]
  },
  {
   "cell_type": "code",
   "execution_count": 7,
   "id": "8220bcaa-0482-49cc-a54b-9d1066eb618e",
   "metadata": {},
   "outputs": [
    {
     "data": {
      "text/plain": [
       "(37422, 12)"
      ]
     },
     "execution_count": 7,
     "metadata": {},
     "output_type": "execute_result"
    }
   ],
   "source": [
    "df.shape"
   ]
  },
  {
   "cell_type": "markdown",
   "id": "469d380d-a0d7-4c82-8b59-97839b2d082f",
   "metadata": {},
   "source": [
    "##### In this Dataset, there are 37422 rows and 12 columns"
   ]
  },
  {
   "cell_type": "markdown",
   "id": "5a793ba3-42c0-45ad-a8c7-1c0edefed341",
   "metadata": {},
   "source": [
    "## 3. Check for the Percentage of the missing values and drop or impute them"
   ]
  },
  {
   "cell_type": "markdown",
   "id": "8f4feeb1-d550-4d9f-8c3b-d3dbca3484a9",
   "metadata": {},
   "source": [
    "#### Percentage of the missing values"
   ]
  },
  {
   "cell_type": "code",
   "execution_count": 8,
   "id": "d76c7a87-f2d2-43fa-9818-40f5ea16d11e",
   "metadata": {},
   "outputs": [
    {
     "data": {
      "text/plain": [
       "video_id         0.000000\n",
       "title            0.000000\n",
       "channel_id       0.000000\n",
       "channel_title    0.000000\n",
       "published_at     0.000000\n",
       "view_count       0.000000\n",
       "likes            0.000000\n",
       "dislikes         0.000000\n",
       "comment_count    0.000000\n",
       "tags             0.000000\n",
       "description      0.000000\n",
       "comments         0.422212\n",
       "dtype: float64"
      ]
     },
     "execution_count": 8,
     "metadata": {},
     "output_type": "execute_result"
    }
   ],
   "source": [
    "df.isnull().sum()/df.shape[0]*100"
   ]
  },
  {
   "cell_type": "markdown",
   "id": "8a80349e-49d6-4036-b711-968a53b5294d",
   "metadata": {},
   "source": [
    "#### In this dataset, the comments column has some missing values. In order to drop the missing values, we can use the drop function."
   ]
  },
  {
   "cell_type": "code",
   "execution_count": 9,
   "id": "7239d540-57ee-4237-bf07-fb10c861c9c2",
   "metadata": {},
   "outputs": [],
   "source": [
    "df.drop(columns='comments',inplace=True)"
   ]
  },
  {
   "cell_type": "code",
   "execution_count": 26,
   "id": "66de0e23-c47c-477d-a364-ea56f9eb4ec5",
   "metadata": {
    "scrolled": true
   },
   "outputs": [
    {
     "data": {
      "text/plain": [
       "video_id           0\n",
       "title              0\n",
       "channel_id         0\n",
       "channel_title      0\n",
       "published_at       0\n",
       "view_count         0\n",
       "likes              0\n",
       "dislikes           0\n",
       "comment_count      0\n",
       "tags               0\n",
       "description        0\n",
       "published_month    0\n",
       "dtype: int64"
      ]
     },
     "execution_count": 26,
     "metadata": {},
     "output_type": "execute_result"
    }
   ],
   "source": [
    "df.isnull().sum()"
   ]
  },
  {
   "cell_type": "markdown",
   "id": "e4f786b1-69bb-4fe6-9e42-1eb9d18f45a2",
   "metadata": {},
   "source": [
    "#### In this Dataset, now there is no missing values."
   ]
  },
  {
   "cell_type": "markdown",
   "id": "84ec6858-35bb-4904-bd7b-1b383b76029d",
   "metadata": {},
   "source": [
    "## 4. Check the statistical summary of both numerical and categorical columns and write your inferences.\n"
   ]
  },
  {
   "cell_type": "markdown",
   "id": "a87955a2-dfcf-472f-b8d8-006f582e3c28",
   "metadata": {},
   "source": [
    "#### Statistical summary of both numerical and categorical columns"
   ]
  },
  {
   "cell_type": "code",
   "execution_count": 10,
   "id": "fc17e688-9554-4da0-923c-c739d1141fab",
   "metadata": {
    "scrolled": true
   },
   "outputs": [
    {
     "data": {
      "text/html": [
       "<div>\n",
       "<style scoped>\n",
       "    .dataframe tbody tr th:only-of-type {\n",
       "        vertical-align: middle;\n",
       "    }\n",
       "\n",
       "    .dataframe tbody tr th {\n",
       "        vertical-align: top;\n",
       "    }\n",
       "\n",
       "    .dataframe thead th {\n",
       "        text-align: right;\n",
       "    }\n",
       "</style>\n",
       "<table border=\"1\" class=\"dataframe\">\n",
       "  <thead>\n",
       "    <tr style=\"text-align: right;\">\n",
       "      <th></th>\n",
       "      <th>video_id</th>\n",
       "      <th>title</th>\n",
       "      <th>channel_id</th>\n",
       "      <th>channel_title</th>\n",
       "      <th>published_at</th>\n",
       "      <th>view_count</th>\n",
       "      <th>likes</th>\n",
       "      <th>dislikes</th>\n",
       "      <th>comment_count</th>\n",
       "      <th>tags</th>\n",
       "      <th>description</th>\n",
       "    </tr>\n",
       "  </thead>\n",
       "  <tbody>\n",
       "    <tr>\n",
       "      <th>count</th>\n",
       "      <td>37422</td>\n",
       "      <td>37422</td>\n",
       "      <td>37422</td>\n",
       "      <td>37422</td>\n",
       "      <td>37422</td>\n",
       "      <td>3.742200e+04</td>\n",
       "      <td>3.742200e+04</td>\n",
       "      <td>3.742200e+04</td>\n",
       "      <td>3.742200e+04</td>\n",
       "      <td>37422</td>\n",
       "      <td>37422</td>\n",
       "    </tr>\n",
       "    <tr>\n",
       "      <th>unique</th>\n",
       "      <td>37422</td>\n",
       "      <td>37113</td>\n",
       "      <td>10961</td>\n",
       "      <td>10883</td>\n",
       "      <td>36772</td>\n",
       "      <td>NaN</td>\n",
       "      <td>NaN</td>\n",
       "      <td>NaN</td>\n",
       "      <td>NaN</td>\n",
       "      <td>28799</td>\n",
       "      <td>35630</td>\n",
       "    </tr>\n",
       "    <tr>\n",
       "      <th>top</th>\n",
       "      <td>--0bCF-iK2E</td>\n",
       "      <td>www</td>\n",
       "      <td>UCNAf1k0yIjyGu3k9BwAg3lg</td>\n",
       "      <td>Sky Sports Football</td>\n",
       "      <td>2020-10-16 04:00:10</td>\n",
       "      <td>NaN</td>\n",
       "      <td>NaN</td>\n",
       "      <td>NaN</td>\n",
       "      <td>NaN</td>\n",
       "      <td></td>\n",
       "      <td></td>\n",
       "    </tr>\n",
       "    <tr>\n",
       "      <th>freq</th>\n",
       "      <td>1</td>\n",
       "      <td>21</td>\n",
       "      <td>533</td>\n",
       "      <td>533</td>\n",
       "      <td>6</td>\n",
       "      <td>NaN</td>\n",
       "      <td>NaN</td>\n",
       "      <td>NaN</td>\n",
       "      <td>NaN</td>\n",
       "      <td>3817</td>\n",
       "      <td>589</td>\n",
       "    </tr>\n",
       "    <tr>\n",
       "      <th>mean</th>\n",
       "      <td>NaN</td>\n",
       "      <td>NaN</td>\n",
       "      <td>NaN</td>\n",
       "      <td>NaN</td>\n",
       "      <td>NaN</td>\n",
       "      <td>5.697838e+06</td>\n",
       "      <td>1.668147e+05</td>\n",
       "      <td>4.989862e+03</td>\n",
       "      <td>9.924930e+03</td>\n",
       "      <td>NaN</td>\n",
       "      <td>NaN</td>\n",
       "    </tr>\n",
       "    <tr>\n",
       "      <th>std</th>\n",
       "      <td>NaN</td>\n",
       "      <td>NaN</td>\n",
       "      <td>NaN</td>\n",
       "      <td>NaN</td>\n",
       "      <td>NaN</td>\n",
       "      <td>2.426622e+07</td>\n",
       "      <td>5.375670e+05</td>\n",
       "      <td>3.070824e+04</td>\n",
       "      <td>1.171003e+05</td>\n",
       "      <td>NaN</td>\n",
       "      <td>NaN</td>\n",
       "    </tr>\n",
       "    <tr>\n",
       "      <th>min</th>\n",
       "      <td>NaN</td>\n",
       "      <td>NaN</td>\n",
       "      <td>NaN</td>\n",
       "      <td>NaN</td>\n",
       "      <td>NaN</td>\n",
       "      <td>2.036800e+04</td>\n",
       "      <td>0.000000e+00</td>\n",
       "      <td>0.000000e+00</td>\n",
       "      <td>0.000000e+00</td>\n",
       "      <td>NaN</td>\n",
       "      <td>NaN</td>\n",
       "    </tr>\n",
       "    <tr>\n",
       "      <th>25%</th>\n",
       "      <td>NaN</td>\n",
       "      <td>NaN</td>\n",
       "      <td>NaN</td>\n",
       "      <td>NaN</td>\n",
       "      <td>NaN</td>\n",
       "      <td>5.122970e+05</td>\n",
       "      <td>1.323350e+04</td>\n",
       "      <td>2.810000e+02</td>\n",
       "      <td>9.000000e+02</td>\n",
       "      <td>NaN</td>\n",
       "      <td>NaN</td>\n",
       "    </tr>\n",
       "    <tr>\n",
       "      <th>50%</th>\n",
       "      <td>NaN</td>\n",
       "      <td>NaN</td>\n",
       "      <td>NaN</td>\n",
       "      <td>NaN</td>\n",
       "      <td>NaN</td>\n",
       "      <td>1.319078e+06</td>\n",
       "      <td>4.233050e+04</td>\n",
       "      <td>7.960000e+02</td>\n",
       "      <td>2.328000e+03</td>\n",
       "      <td>NaN</td>\n",
       "      <td>NaN</td>\n",
       "    </tr>\n",
       "    <tr>\n",
       "      <th>75%</th>\n",
       "      <td>NaN</td>\n",
       "      <td>NaN</td>\n",
       "      <td>NaN</td>\n",
       "      <td>NaN</td>\n",
       "      <td>NaN</td>\n",
       "      <td>3.670231e+06</td>\n",
       "      <td>1.304698e+05</td>\n",
       "      <td>2.461750e+03</td>\n",
       "      <td>6.184000e+03</td>\n",
       "      <td>NaN</td>\n",
       "      <td>NaN</td>\n",
       "    </tr>\n",
       "    <tr>\n",
       "      <th>max</th>\n",
       "      <td>NaN</td>\n",
       "      <td>NaN</td>\n",
       "      <td>NaN</td>\n",
       "      <td>NaN</td>\n",
       "      <td>NaN</td>\n",
       "      <td>1.322797e+09</td>\n",
       "      <td>3.183768e+07</td>\n",
       "      <td>2.397733e+06</td>\n",
       "      <td>1.607103e+07</td>\n",
       "      <td>NaN</td>\n",
       "      <td>NaN</td>\n",
       "    </tr>\n",
       "  </tbody>\n",
       "</table>\n",
       "</div>"
      ],
      "text/plain": [
       "           video_id  title                channel_id        channel_title  \\\n",
       "count         37422  37422                     37422                37422   \n",
       "unique        37422  37113                     10961                10883   \n",
       "top     --0bCF-iK2E    www  UCNAf1k0yIjyGu3k9BwAg3lg  Sky Sports Football   \n",
       "freq              1     21                       533                  533   \n",
       "mean            NaN    NaN                       NaN                  NaN   \n",
       "std             NaN    NaN                       NaN                  NaN   \n",
       "min             NaN    NaN                       NaN                  NaN   \n",
       "25%             NaN    NaN                       NaN                  NaN   \n",
       "50%             NaN    NaN                       NaN                  NaN   \n",
       "75%             NaN    NaN                       NaN                  NaN   \n",
       "max             NaN    NaN                       NaN                  NaN   \n",
       "\n",
       "               published_at    view_count         likes      dislikes  \\\n",
       "count                 37422  3.742200e+04  3.742200e+04  3.742200e+04   \n",
       "unique                36772           NaN           NaN           NaN   \n",
       "top     2020-10-16 04:00:10           NaN           NaN           NaN   \n",
       "freq                      6           NaN           NaN           NaN   \n",
       "mean                    NaN  5.697838e+06  1.668147e+05  4.989862e+03   \n",
       "std                     NaN  2.426622e+07  5.375670e+05  3.070824e+04   \n",
       "min                     NaN  2.036800e+04  0.000000e+00  0.000000e+00   \n",
       "25%                     NaN  5.122970e+05  1.323350e+04  2.810000e+02   \n",
       "50%                     NaN  1.319078e+06  4.233050e+04  7.960000e+02   \n",
       "75%                     NaN  3.670231e+06  1.304698e+05  2.461750e+03   \n",
       "max                     NaN  1.322797e+09  3.183768e+07  2.397733e+06   \n",
       "\n",
       "        comment_count   tags description  \n",
       "count    3.742200e+04  37422       37422  \n",
       "unique            NaN  28799       35630  \n",
       "top               NaN                     \n",
       "freq              NaN   3817         589  \n",
       "mean     9.924930e+03    NaN         NaN  \n",
       "std      1.171003e+05    NaN         NaN  \n",
       "min      0.000000e+00    NaN         NaN  \n",
       "25%      9.000000e+02    NaN         NaN  \n",
       "50%      2.328000e+03    NaN         NaN  \n",
       "75%      6.184000e+03    NaN         NaN  \n",
       "max      1.607103e+07    NaN         NaN  "
      ]
     },
     "execution_count": 10,
     "metadata": {},
     "output_type": "execute_result"
    }
   ],
   "source": [
    "df.describe(include='all')"
   ]
  },
  {
   "cell_type": "markdown",
   "id": "55d0d31c-5e04-40a9-8c4a-384e1929da80",
   "metadata": {},
   "source": [
    "## Inferences:"
   ]
  },
  {
   "cell_type": "markdown",
   "id": "b064c45f-05fb-4165-84bf-f2047ca5dadf",
   "metadata": {},
   "source": [
    "### Numerical Columns (view_count, likes, dislikes, comment_count):\n",
    "\n",
    "##### Count: The count for each numerical column is 37,422.\n",
    "##### Mean: Provides the average value for each numerical column.\n",
    "##### Standard Deviation: Gives a measure of the amount of variation or dispersion of each numerical column.\n",
    "##### Min and Max: Indicate the minimum and maximum values in each numerical column.\n",
    "##### 25%, 50%, and 75% (Percentiles): Show the values below which a given percentage of observations fall. For example, the 50% percentile is the median."
   ]
  },
  {
   "cell_type": "markdown",
   "id": "8d04443d-f616-4986-9d27-f3a7f4ae8224",
   "metadata": {},
   "source": [
    "### Categorical Columns (video_id, title, channel_id, channel_title, published_at, tags, description):\n",
    "\n",
    "##### Count: Shows the number of non-null entries in each categorical column.\n",
    "##### Unique: Represents the number of unique values in each categorical column.\n",
    "##### Top: Displays the most frequent (mode) value in each categorical column.\n",
    "##### Freq: Indicates the frequency of the top value."
   ]
  },
  {
   "cell_type": "markdown",
   "id": "e2116029-f9d3-4a93-9fcf-8a06680ec972",
   "metadata": {},
   "source": [
    "## 5. Convert datatype of column published_at from object to pandas datetime."
   ]
  },
  {
   "cell_type": "code",
   "execution_count": 11,
   "id": "dba3b54a-8fcf-4ed5-b639-02579489a36d",
   "metadata": {},
   "outputs": [
    {
     "data": {
      "text/plain": [
       "0       2021-07-01 10:00:00\n",
       "1       2021-06-10 16:00:00\n",
       "2       2021-09-20 01:03:32\n",
       "3       2021-03-03 10:00:17\n",
       "4       2021-12-07 13:00:00\n",
       "                ...        \n",
       "37417   2021-02-12 05:03:49\n",
       "37418   2021-01-16 05:39:05\n",
       "37419   2021-06-02 09:00:10\n",
       "37420   2020-10-20 20:59:30\n",
       "37421   2021-05-23 21:00:31\n",
       "Name: published_at, Length: 37422, dtype: datetime64[ns]"
      ]
     },
     "execution_count": 11,
     "metadata": {},
     "output_type": "execute_result"
    }
   ],
   "source": [
    "df['published_at']=pd.to_datetime(df['published_at'])\n",
    "df['published_at']"
   ]
  },
  {
   "cell_type": "code",
   "execution_count": 28,
   "id": "e43c4974-a8a8-4963-839b-6bb8b8412f19",
   "metadata": {},
   "outputs": [
    {
     "data": {
      "text/plain": [
       "video_id                   object\n",
       "title                      object\n",
       "channel_id                 object\n",
       "channel_title              object\n",
       "published_at       datetime64[ns]\n",
       "view_count                  int64\n",
       "likes                       int64\n",
       "dislikes                    int64\n",
       "comment_count               int64\n",
       "tags                       object\n",
       "description                object\n",
       "published_month            object\n",
       "dtype: object"
      ]
     },
     "execution_count": 28,
     "metadata": {},
     "output_type": "execute_result"
    }
   ],
   "source": [
    "df.dtypes"
   ]
  },
  {
   "cell_type": "markdown",
   "id": "35ccf2ae-40bd-4f5f-b6a4-4c35e2345eaf",
   "metadata": {},
   "source": [
    "## 6. Create a new column as 'published_month' using the column published_at (display the months only)"
   ]
  },
  {
   "cell_type": "code",
   "execution_count": 12,
   "id": "de8fc39f-340d-4016-a27e-b7e2a3cb4c10",
   "metadata": {},
   "outputs": [
    {
     "data": {
      "text/plain": [
       "0         7\n",
       "1         6\n",
       "2         9\n",
       "3         3\n",
       "4        12\n",
       "         ..\n",
       "37417     2\n",
       "37418     1\n",
       "37419     6\n",
       "37420    10\n",
       "37421     5\n",
       "Name: published_month, Length: 37422, dtype: int32"
      ]
     },
     "execution_count": 12,
     "metadata": {},
     "output_type": "execute_result"
    }
   ],
   "source": [
    "df['published_month']=df['published_at'].dt.month\n",
    "df['published_month']"
   ]
  },
  {
   "cell_type": "markdown",
   "id": "204f34bc-4ad3-45ef-9fee-f601335b7607",
   "metadata": {},
   "source": [
    "## 7. Replace the numbers in the column published_month as names of the months i,e., 1 as 'Jan', 2 as 'Feb' and so on.....\n",
    "\n"
   ]
  },
  {
   "cell_type": "code",
   "execution_count": 13,
   "id": "e838fd55-89de-42c5-8814-54411f0b42f3",
   "metadata": {},
   "outputs": [
    {
     "data": {
      "text/plain": [
       "0        Jul\n",
       "1        Jun\n",
       "2        Sep\n",
       "3        Mar\n",
       "4        Dec\n",
       "        ... \n",
       "37417    Feb\n",
       "37418    Jan\n",
       "37419    Jun\n",
       "37420    Oct\n",
       "37421    May\n",
       "Name: published_month, Length: 37422, dtype: object"
      ]
     },
     "execution_count": 13,
     "metadata": {},
     "output_type": "execute_result"
    }
   ],
   "source": [
    "df['published_month']=df['published_month'].replace({1:'Jan',2:'Feb',3:'Mar',4:'Apr',5:'May',\n",
    "                                                     6:'Jun',7:'Jul',8:'Aug',9:'Sep',10:'Oct',\n",
    "                                                     11:'Nov',12:'Dec'},regex=True)\n",
    "df['published_month']"
   ]
  },
  {
   "cell_type": "markdown",
   "id": "af1f4145-d426-4093-abaf-085a38c84e86",
   "metadata": {},
   "source": [
    "## 8. Find the number of videos published each month and arrange the months in a decreasing order based on the video count.\n",
    "\n"
   ]
  },
  {
   "cell_type": "code",
   "execution_count": 14,
   "id": "0b5aee0c-39a5-4b6d-bfa9-65bdc1558f02",
   "metadata": {},
   "outputs": [
    {
     "data": {
      "text/plain": [
       "published_month\n",
       "Oct    4991\n",
       "Sep    4880\n",
       "Nov    4851\n",
       "Aug    4262\n",
       "Dec    3072\n",
       "Jul    2340\n",
       "Jun    2316\n",
       "Mar    2258\n",
       "Feb    2137\n",
       "Apr    2126\n",
       "Jan    2108\n",
       "May    2081\n",
       "Name: count, dtype: int64"
      ]
     },
     "execution_count": 14,
     "metadata": {},
     "output_type": "execute_result"
    }
   ],
   "source": [
    "df['published_month'].value_counts(ascending=False)"
   ]
  },
  {
   "cell_type": "markdown",
   "id": "b37dfc4e-7d2d-4f6e-9525-8c990081c480",
   "metadata": {},
   "source": [
    "## 9. Find the count of unique video_id, channel_id and channel_title."
   ]
  },
  {
   "cell_type": "markdown",
   "id": "1eb87025-e2eb-4b4a-9b04-85a3ac9f7308",
   "metadata": {},
   "source": [
    "#### The count of unique video_id"
   ]
  },
  {
   "cell_type": "code",
   "execution_count": 15,
   "id": "d4dd2be9-00d7-47e6-b062-7c7b2cb3772b",
   "metadata": {},
   "outputs": [
    {
     "data": {
      "text/plain": [
       "37422"
      ]
     },
     "execution_count": 15,
     "metadata": {},
     "output_type": "execute_result"
    }
   ],
   "source": [
    "df['video_id'].nunique()"
   ]
  },
  {
   "cell_type": "markdown",
   "id": "e2581623-8034-4137-bed8-1ae62e277a19",
   "metadata": {},
   "source": [
    "#### The count of unique channel_id"
   ]
  },
  {
   "cell_type": "code",
   "execution_count": 16,
   "id": "eed05f55-0b4a-4679-ae7b-f8ba2970ceef",
   "metadata": {},
   "outputs": [
    {
     "data": {
      "text/plain": [
       "10961"
      ]
     },
     "execution_count": 16,
     "metadata": {},
     "output_type": "execute_result"
    }
   ],
   "source": [
    "df['channel_id'].nunique()"
   ]
  },
  {
   "cell_type": "markdown",
   "id": "df85ddc0-c8eb-47e7-88ef-7fb1619e8371",
   "metadata": {},
   "source": [
    "#### The count of unique channel_title"
   ]
  },
  {
   "cell_type": "code",
   "execution_count": 17,
   "id": "dc9bcbaa-0396-4f85-bac4-2d85ff60f547",
   "metadata": {},
   "outputs": [
    {
     "data": {
      "text/plain": [
       "10883"
      ]
     },
     "execution_count": 17,
     "metadata": {},
     "output_type": "execute_result"
    }
   ],
   "source": [
    "df['channel_title'].nunique()"
   ]
  },
  {
   "cell_type": "markdown",
   "id": "22739af2-622e-44a5-907d-e8d522b5989d",
   "metadata": {},
   "source": [
    "## 10. Find the top10 channel names having the highest number of videos in the dataset and the bottom10 having lowest number of videos.\n"
   ]
  },
  {
   "cell_type": "markdown",
   "id": "52c4698a-fb91-437f-8dab-023b54fe4bfe",
   "metadata": {},
   "source": [
    "### The Top 10 channel names having the highest number of videos."
   ]
  },
  {
   "cell_type": "code",
   "execution_count": 18,
   "id": "5ba5e4a9-0483-4e12-9dd4-2421b36ea8c0",
   "metadata": {},
   "outputs": [
    {
     "data": {
      "text/plain": [
       "channel_title\n",
       "Sky Sports Football    533\n",
       "The United Stand       301\n",
       "BT Sport               246\n",
       "NBA                    209\n",
       "NFL                    162\n",
       "WWE                    122\n",
       "SSSniperWolf            99\n",
       "SSundee                 98\n",
       "FORMULA 1               87\n",
       "NHL                     86\n",
       "Name: count, dtype: int64"
      ]
     },
     "execution_count": 18,
     "metadata": {},
     "output_type": "execute_result"
    }
   ],
   "source": [
    "df['channel_title'].value_counts().head(10)"
   ]
  },
  {
   "cell_type": "markdown",
   "id": "e73cf0cf-3a99-4e47-bc06-9843d9ccdd66",
   "metadata": {},
   "source": [
    "### The Bottom 10 channel names having the highest number of videos."
   ]
  },
  {
   "cell_type": "code",
   "execution_count": 19,
   "id": "b0de735b-05c7-4994-9bed-b8ab7129a81f",
   "metadata": {},
   "outputs": [
    {
     "data": {
      "text/plain": [
       "channel_title\n",
       "Eiaz                     1\n",
       "adidas                   1\n",
       "Universitetet i Agder    1\n",
       "Team Tapia               1\n",
       "TheVincentMottola        1\n",
       "Blocktrainer             1\n",
       "Movie Addicts            1\n",
       "1 1 minute mom           1\n",
       "FLORIN CERCEL            1\n",
       "Master Podcast           1\n",
       "Name: count, dtype: int64"
      ]
     },
     "execution_count": 19,
     "metadata": {},
     "output_type": "execute_result"
    }
   ],
   "source": [
    "df['channel_title'].value_counts().tail(10)"
   ]
  },
  {
   "cell_type": "markdown",
   "id": "cc6cc773-70ca-4c07-bb91-9df8236dfeb7",
   "metadata": {},
   "source": [
    "## 11. Find the title of the video which has the maximum number of likes and the title of the video having minimum likes and write your inferences.\n"
   ]
  },
  {
   "cell_type": "markdown",
   "id": "08db54e7-68ce-4d5d-a271-2cd1ce394892",
   "metadata": {},
   "source": [
    "### Title with the Maximum number of likes."
   ]
  },
  {
   "cell_type": "code",
   "execution_count": 20,
   "id": "6f7092d9-f299-4037-b635-07e02666102e",
   "metadata": {},
   "outputs": [
    {
     "data": {
      "text/plain": [
       "\"BTS () 'Dynamite' Official MV\""
      ]
     },
     "execution_count": 20,
     "metadata": {},
     "output_type": "execute_result"
    }
   ],
   "source": [
    "df.loc[df['likes'].idxmax(),'title']"
   ]
  },
  {
   "cell_type": "markdown",
   "id": "ad03cec2-657f-420a-9cb8-69a8ddd9cab9",
   "metadata": {},
   "source": [
    "#### Inference:"
   ]
  },
  {
   "cell_type": "markdown",
   "id": "443b4161-2c24-4189-850b-0e435971faa0",
   "metadata": {},
   "source": [
    "##### The video titled \"BTS () 'Dynamite' Official MV\" has the maximum number of likes. This suggests that the BTS music video for the song \"Dynamite\" has received a significant amount of positive engagement and appreciation from viewers."
   ]
  },
  {
   "cell_type": "markdown",
   "id": "80c6ab8f-9a5c-4c62-8e89-0ab08311b864",
   "metadata": {},
   "source": [
    "### Title with the Minimum number of likes."
   ]
  },
  {
   "cell_type": "code",
   "execution_count": 21,
   "id": "7cf1ad09-59e1-4319-ab7b-3cacf533a0f6",
   "metadata": {},
   "outputs": [
    {
     "data": {
      "text/plain": [
       "'Kim Kardashian\\'s Must-See Moments on \"Saturday Night Live\" | E! News'"
      ]
     },
     "execution_count": 21,
     "metadata": {},
     "output_type": "execute_result"
    }
   ],
   "source": [
    "df.loc[df['likes'].idxmin(),'title']"
   ]
  },
  {
   "cell_type": "markdown",
   "id": "ec1b3e45-75f5-47c9-b5d9-dc56ac4c445f",
   "metadata": {},
   "source": [
    "#### Inference:"
   ]
  },
  {
   "cell_type": "markdown",
   "id": "3ecba232-1133-4034-834b-4d8dd64d1d7e",
   "metadata": {},
   "source": [
    "##### The video titled 'Kim Kardashian's Must-See Moments on \"Saturday Night Live\" | E! News' has the minimum number of likes. This could indicate that this particular video didn't attract as much positive attention compared to other videos in the dataset."
   ]
  },
  {
   "cell_type": "markdown",
   "id": "6c77954c-530b-4c7f-ad94-d5bdc73731ed",
   "metadata": {},
   "source": [
    "## 12. Find the title of the video which has the maximum number of dislikes and the title of the video having minimum dislikes and write your inferences.\n",
    "\n"
   ]
  },
  {
   "cell_type": "markdown",
   "id": "d31cda42-8bda-466a-b2fc-faa7b81c83e2",
   "metadata": {},
   "source": [
    "#### Title with the Maximum number of dislikes."
   ]
  },
  {
   "cell_type": "code",
   "execution_count": 22,
   "id": "476cddbd-cbcf-434f-abf1-2e54e037229c",
   "metadata": {},
   "outputs": [
    {
     "data": {
      "text/plain": [
       "'Cuties | Official Trailer | Netflix'"
      ]
     },
     "execution_count": 22,
     "metadata": {},
     "output_type": "execute_result"
    }
   ],
   "source": [
    "df.loc[df['dislikes'].idxmax(),'title']"
   ]
  },
  {
   "cell_type": "markdown",
   "id": "02b0b4ba-aaaf-42ea-925e-f8da91db89e1",
   "metadata": {},
   "source": [
    "#### Inference:"
   ]
  },
  {
   "cell_type": "markdown",
   "id": "cee74947-053a-4441-8e37-fe8e5cb2fea8",
   "metadata": {},
   "source": [
    "##### The video titled 'Cuties | Official Trailer | Netflix' has the maximum number of dislikes. This may suggest that the trailer for the Netflix film \"Cuties\" received a significant amount of criticism or controversy, leading to a higher number of dislikes from viewers."
   ]
  },
  {
   "cell_type": "markdown",
   "id": "859d3cc3-e575-46c4-b586-b62004b26a08",
   "metadata": {},
   "source": [
    "#### Title with the Minimum number of dislikes."
   ]
  },
  {
   "cell_type": "code",
   "execution_count": 23,
   "id": "a7d2eee1-50b6-4008-a659-9a4763fad8ec",
   "metadata": {},
   "outputs": [
    {
     "data": {
      "text/plain": [
       "'Kim Kardashian\\'s Must-See Moments on \"Saturday Night Live\" | E! News'"
      ]
     },
     "execution_count": 23,
     "metadata": {},
     "output_type": "execute_result"
    }
   ],
   "source": [
    "df.loc[df['dislikes'].idxmin(), 'title']"
   ]
  },
  {
   "cell_type": "markdown",
   "id": "ddc52d56-8b76-418d-8203-fd89b07c92b6",
   "metadata": {},
   "source": [
    "#### Inference:"
   ]
  },
  {
   "cell_type": "markdown",
   "id": "6741536c-c433-4696-b042-0756b32bc6d3",
   "metadata": {},
   "source": [
    "##### The video titled 'Kim Kardashian's Must-See Moments on \"Saturday Night Live\" | E! News' has the minimum number of dislikes. This could imply that this particular video did not generate much negative feedback or controversy compared to other videos in the dataset."
   ]
  },
  {
   "cell_type": "markdown",
   "id": "30ff7657-db7c-4552-8e30-e7a25a289b69",
   "metadata": {},
   "source": [
    "## 13. Does the number of views have any effect on how many people disliked the video? Support your answer with a metric and a plot.\n"
   ]
  },
  {
   "cell_type": "code",
   "execution_count": 39,
   "id": "081981d9-9738-45fd-8883-5335651bc754",
   "metadata": {},
   "outputs": [
    {
     "data": {
      "text/html": [
       "<div>\n",
       "<style scoped>\n",
       "    .dataframe tbody tr th:only-of-type {\n",
       "        vertical-align: middle;\n",
       "    }\n",
       "\n",
       "    .dataframe tbody tr th {\n",
       "        vertical-align: top;\n",
       "    }\n",
       "\n",
       "    .dataframe thead th {\n",
       "        text-align: right;\n",
       "    }\n",
       "</style>\n",
       "<table border=\"1\" class=\"dataframe\">\n",
       "  <thead>\n",
       "    <tr style=\"text-align: right;\">\n",
       "      <th></th>\n",
       "      <th>view_count</th>\n",
       "      <th>dislikes</th>\n",
       "    </tr>\n",
       "  </thead>\n",
       "  <tbody>\n",
       "    <tr>\n",
       "      <th>0</th>\n",
       "      <td>1048888</td>\n",
       "      <td>226</td>\n",
       "    </tr>\n",
       "    <tr>\n",
       "      <th>1</th>\n",
       "      <td>15352638</td>\n",
       "      <td>7479</td>\n",
       "    </tr>\n",
       "    <tr>\n",
       "      <th>2</th>\n",
       "      <td>925281</td>\n",
       "      <td>401</td>\n",
       "    </tr>\n",
       "    <tr>\n",
       "      <th>3</th>\n",
       "      <td>2641597</td>\n",
       "      <td>441</td>\n",
       "    </tr>\n",
       "    <tr>\n",
       "      <th>4</th>\n",
       "      <td>715724</td>\n",
       "      <td>367</td>\n",
       "    </tr>\n",
       "    <tr>\n",
       "      <th>...</th>\n",
       "      <td>...</td>\n",
       "      <td>...</td>\n",
       "    </tr>\n",
       "    <tr>\n",
       "      <th>37417</th>\n",
       "      <td>120408275</td>\n",
       "      <td>35871</td>\n",
       "    </tr>\n",
       "    <tr>\n",
       "      <th>37418</th>\n",
       "      <td>2841917</td>\n",
       "      <td>1049</td>\n",
       "    </tr>\n",
       "    <tr>\n",
       "      <th>37419</th>\n",
       "      <td>13346678</td>\n",
       "      <td>4426</td>\n",
       "    </tr>\n",
       "    <tr>\n",
       "      <th>37420</th>\n",
       "      <td>252057</td>\n",
       "      <td>1234</td>\n",
       "    </tr>\n",
       "    <tr>\n",
       "      <th>37421</th>\n",
       "      <td>2252090</td>\n",
       "      <td>868</td>\n",
       "    </tr>\n",
       "  </tbody>\n",
       "</table>\n",
       "<p>37422 rows × 2 columns</p>\n",
       "</div>"
      ],
      "text/plain": [
       "       view_count  dislikes\n",
       "0         1048888       226\n",
       "1        15352638      7479\n",
       "2          925281       401\n",
       "3         2641597       441\n",
       "4          715724       367\n",
       "...           ...       ...\n",
       "37417   120408275     35871\n",
       "37418     2841917      1049\n",
       "37419    13346678      4426\n",
       "37420      252057      1234\n",
       "37421     2252090       868\n",
       "\n",
       "[37422 rows x 2 columns]"
      ]
     },
     "execution_count": 39,
     "metadata": {},
     "output_type": "execute_result"
    }
   ],
   "source": [
    "df_line_plot=df.loc[:,('view_count','dislikes')]\n",
    "df_line_plot"
   ]
  },
  {
   "cell_type": "code",
   "execution_count": 40,
   "id": "06545744-6b8d-473b-85a4-b389c71cef8a",
   "metadata": {},
   "outputs": [
    {
     "data": {
      "text/plain": [
       "<Figure size 100x100 with 0 Axes>"
      ]
     },
     "metadata": {},
     "output_type": "display_data"
    },
    {
     "data": {
      "image/png": "[encoded data removed]",
      "text/plain": [
       "<Figure size 640x480 with 1 Axes>"
      ]
     },
     "metadata": {},
     "output_type": "display_data"
    }
   ],
   "source": [
    "plt.figure(figsize=(1,1))\n",
    "df_line_plot.plot();"
   ]
  },
  {
   "cell_type": "markdown",
   "id": "33bb73fa-e110-4553-8426-e2faf8520aca",
   "metadata": {},
   "source": [
    "### In our analysis, we found it appears that the number of views does not have a notable impact on the number of dislikes."
   ]
  },
  {
   "cell_type": "markdown",
   "id": "c21ccbf5-c914-415f-a459-b7050cfbf508",
   "metadata": {},
   "source": [
    "## 14. Display all the information about the videos that were published in January, and mention the count of videos that were published in January.\n",
    "\n"
   ]
  },
  {
   "cell_type": "markdown",
   "id": "3c01ca54-befc-461a-99c1-bbdcac6dc2b2",
   "metadata": {},
   "source": [
    "### All the information about the videos that were published in January."
   ]
  },
  {
   "cell_type": "code",
   "execution_count": 24,
   "id": "6b5fb6a5-523e-433c-883c-ba083b57a2a7",
   "metadata": {},
   "outputs": [
    {
     "data": {
      "text/html": [
       "<div>\n",
       "<style scoped>\n",
       "    .dataframe tbody tr th:only-of-type {\n",
       "        vertical-align: middle;\n",
       "    }\n",
       "\n",
       "    .dataframe tbody tr th {\n",
       "        vertical-align: top;\n",
       "    }\n",
       "\n",
       "    .dataframe thead th {\n",
       "        text-align: right;\n",
       "    }\n",
       "</style>\n",
       "<table border=\"1\" class=\"dataframe\">\n",
       "  <thead>\n",
       "    <tr style=\"text-align: right;\">\n",
       "      <th></th>\n",
       "      <th>video_id</th>\n",
       "      <th>title</th>\n",
       "      <th>channel_id</th>\n",
       "      <th>channel_title</th>\n",
       "      <th>published_at</th>\n",
       "      <th>view_count</th>\n",
       "      <th>likes</th>\n",
       "      <th>dislikes</th>\n",
       "      <th>comment_count</th>\n",
       "      <th>tags</th>\n",
       "      <th>description</th>\n",
       "      <th>published_month</th>\n",
       "    </tr>\n",
       "  </thead>\n",
       "  <tbody>\n",
       "    <tr>\n",
       "      <th>27</th>\n",
       "      <td>-2Gwm7QfBnE</td>\n",
       "      <td>Q&amp;A With Naisha</td>\n",
       "      <td>UCYwNMbogQFzMccPSuy-pPWg</td>\n",
       "      <td>MianTwins</td>\n",
       "      <td>2021-01-21 00:05:47</td>\n",
       "      <td>872372</td>\n",
       "      <td>38626</td>\n",
       "      <td>239</td>\n",
       "      <td>621</td>\n",
       "      <td></td>\n",
       "      <td>Hey Guys!!! this has been the most requested v...</td>\n",
       "      <td>Jan</td>\n",
       "    </tr>\n",
       "    <tr>\n",
       "      <th>48</th>\n",
       "      <td>-4sfXSHSxzA</td>\n",
       "      <td>SURPRISING BRENT WITH HIS TIKTOK CRUSH!!</td>\n",
       "      <td>UCPpATKqmMV-CNRNWYaDUwiA</td>\n",
       "      <td>Alexa Rivera</td>\n",
       "      <td>2021-01-16 21:40:04</td>\n",
       "      <td>6504784</td>\n",
       "      <td>262477</td>\n",
       "      <td>5779</td>\n",
       "      <td>7907</td>\n",
       "      <td></td>\n",
       "      <td>He had no idea! Thank you guys so much for wat...</td>\n",
       "      <td>Jan</td>\n",
       "    </tr>\n",
       "    <tr>\n",
       "      <th>95</th>\n",
       "      <td>-AJD1Fc5rpQ</td>\n",
       "      <td>WE ARE HAVING A BABY! | finding out i'm pregna...</td>\n",
       "      <td>UCVsTboAhpnuL6j-tDePvNwQ</td>\n",
       "      <td>Tess Christine</td>\n",
       "      <td>2021-01-03 21:53:48</td>\n",
       "      <td>533084</td>\n",
       "      <td>38965</td>\n",
       "      <td>119</td>\n",
       "      <td>1650</td>\n",
       "      <td></td>\n",
       "      <td>I am so happy to tell you that I am pregnant!!...</td>\n",
       "      <td>Jan</td>\n",
       "    </tr>\n",
       "    <tr>\n",
       "      <th>103</th>\n",
       "      <td>-AuJiwjsmWk</td>\n",
       "      <td>Do Ugly Foods Taste Worse? Taste Test</td>\n",
       "      <td>UCzpCc5n9hqiVC7HhPwcIKEg</td>\n",
       "      <td>Good Mythical MORE</td>\n",
       "      <td>2021-01-19 11:00:01</td>\n",
       "      <td>1057077</td>\n",
       "      <td>22526</td>\n",
       "      <td>531</td>\n",
       "      <td>773</td>\n",
       "      <td>gmm good mythical morning rhettandlink rhett a...</td>\n",
       "      <td>Today, we're doing a blind taste test to deter...</td>\n",
       "      <td>Jan</td>\n",
       "    </tr>\n",
       "    <tr>\n",
       "      <th>182</th>\n",
       "      <td>-JhqO2KWr5U</td>\n",
       "      <td>Schlatt gets fit</td>\n",
       "      <td>UCWZp4y1jqBuvLtiyxSs_ZBw</td>\n",
       "      <td>Big guy</td>\n",
       "      <td>2021-01-24 22:50:57</td>\n",
       "      <td>1724965</td>\n",
       "      <td>119431</td>\n",
       "      <td>325</td>\n",
       "      <td>1578</td>\n",
       "      <td>jschlatt big guy jschlatt highlights schlatt j...</td>\n",
       "      <td>#jschlatt #schlatt #bigguy #short</td>\n",
       "      <td>Jan</td>\n",
       "    </tr>\n",
       "    <tr>\n",
       "      <th>...</th>\n",
       "      <td>...</td>\n",
       "      <td>...</td>\n",
       "      <td>...</td>\n",
       "      <td>...</td>\n",
       "      <td>...</td>\n",
       "      <td>...</td>\n",
       "      <td>...</td>\n",
       "      <td>...</td>\n",
       "      <td>...</td>\n",
       "      <td>...</td>\n",
       "      <td>...</td>\n",
       "      <td>...</td>\n",
       "    </tr>\n",
       "    <tr>\n",
       "      <th>37300</th>\n",
       "      <td>zmzFL5bG-jc</td>\n",
       "      <td>DEVINE MON PERSONNAGE AVANT AKINATOR ! (c'est ...</td>\n",
       "      <td>UCIlr3byh6wmXgcPx_Tm9Ocw</td>\n",
       "      <td>Piwerre</td>\n",
       "      <td>2021-01-16 16:12:19</td>\n",
       "      <td>670357</td>\n",
       "      <td>54462</td>\n",
       "      <td>832</td>\n",
       "      <td>1249</td>\n",
       "      <td>Piwerre frere de michou crouton among us devin...</td>\n",
       "      <td>Discord Piwerre : https://discord.gg/QBduPgAA...</td>\n",
       "      <td>Jan</td>\n",
       "    </tr>\n",
       "    <tr>\n",
       "      <th>37329</th>\n",
       "      <td>zpzjex7qwrA</td>\n",
       "      <td>Lampard Sacked Within Days Rorys Misery | Chel...</td>\n",
       "      <td>UCkD-ZOixI0a9FjIExDsHsbg</td>\n",
       "      <td>The Kick Off</td>\n",
       "      <td>2021-01-03 20:13:49</td>\n",
       "      <td>428646</td>\n",
       "      <td>12060</td>\n",
       "      <td>296</td>\n",
       "      <td>1505</td>\n",
       "      <td>Premier league Chelsea chelsea 1-3 Man City Ch...</td>\n",
       "      <td>The Kick Off watched Manchester City destroy C...</td>\n",
       "      <td>Jan</td>\n",
       "    </tr>\n",
       "    <tr>\n",
       "      <th>37345</th>\n",
       "      <td>zqyv-B6mnBM</td>\n",
       "      <td>Lil Wayne - Ain't Got Time (Audio)</td>\n",
       "      <td>UCO9zJy7HWrIS3ojB4Lr7Yqw</td>\n",
       "      <td>Lil Wayne</td>\n",
       "      <td>2021-01-21 05:00:10</td>\n",
       "      <td>2238244</td>\n",
       "      <td>58925</td>\n",
       "      <td>2365</td>\n",
       "      <td>5539</td>\n",
       "      <td>lil wayne weezy weezy wednesday wayne carter y...</td>\n",
       "      <td>Official audio for Lil Wayne \"Ain't Got Time\",...</td>\n",
       "      <td>Jan</td>\n",
       "    </tr>\n",
       "    <tr>\n",
       "      <th>37383</th>\n",
       "      <td>zwfu1-24T7Q</td>\n",
       "      <td>PRADA Cup Day 1 | Full Race Replay | PRADA Cup...</td>\n",
       "      <td>UCo15ZYO_XDRU9LI30OPtxAg</td>\n",
       "      <td>America's Cup</td>\n",
       "      <td>2021-01-15 04:07:55</td>\n",
       "      <td>317382</td>\n",
       "      <td>2008</td>\n",
       "      <td>83</td>\n",
       "      <td>192</td>\n",
       "      <td>America's Cup Americas Cup AC36 AC75 Presented...</td>\n",
       "      <td>The opening day of the PRADA Cup in Auckland, ...</td>\n",
       "      <td>Jan</td>\n",
       "    </tr>\n",
       "    <tr>\n",
       "      <th>37418</th>\n",
       "      <td>zziBybeSAtw</td>\n",
       "      <td>PELICANS at LAKERS | FULL GAME HIGHLIGHTS | Ja...</td>\n",
       "      <td>UCWJ2lWNubArHWmf3FIHbfcQ</td>\n",
       "      <td>NBA</td>\n",
       "      <td>2021-01-16 05:39:05</td>\n",
       "      <td>2841917</td>\n",
       "      <td>20759</td>\n",
       "      <td>1049</td>\n",
       "      <td>2624</td>\n",
       "      <td>NBA G League Basketball game-0022000187 Lakers...</td>\n",
       "      <td>PELICANS at LAKERS | FULL GAME HIGHLIGHTS | Ja...</td>\n",
       "      <td>Jan</td>\n",
       "    </tr>\n",
       "  </tbody>\n",
       "</table>\n",
       "<p>2108 rows × 12 columns</p>\n",
       "</div>"
      ],
      "text/plain": [
       "          video_id                                              title  \\\n",
       "27     -2Gwm7QfBnE                                    Q&A With Naisha   \n",
       "48     -4sfXSHSxzA           SURPRISING BRENT WITH HIS TIKTOK CRUSH!!   \n",
       "95     -AJD1Fc5rpQ  WE ARE HAVING A BABY! | finding out i'm pregna...   \n",
       "103    -AuJiwjsmWk              Do Ugly Foods Taste Worse? Taste Test   \n",
       "182    -JhqO2KWr5U                                   Schlatt gets fit   \n",
       "...            ...                                                ...   \n",
       "37300  zmzFL5bG-jc  DEVINE MON PERSONNAGE AVANT AKINATOR ! (c'est ...   \n",
       "37329  zpzjex7qwrA  Lampard Sacked Within Days Rorys Misery | Chel...   \n",
       "37345  zqyv-B6mnBM                 Lil Wayne - Ain't Got Time (Audio)   \n",
       "37383  zwfu1-24T7Q  PRADA Cup Day 1 | Full Race Replay | PRADA Cup...   \n",
       "37418  zziBybeSAtw  PELICANS at LAKERS | FULL GAME HIGHLIGHTS | Ja...   \n",
       "\n",
       "                     channel_id       channel_title        published_at  \\\n",
       "27     UCYwNMbogQFzMccPSuy-pPWg           MianTwins 2021-01-21 00:05:47   \n",
       "48     UCPpATKqmMV-CNRNWYaDUwiA        Alexa Rivera 2021-01-16 21:40:04   \n",
       "95     UCVsTboAhpnuL6j-tDePvNwQ      Tess Christine 2021-01-03 21:53:48   \n",
       "103    UCzpCc5n9hqiVC7HhPwcIKEg  Good Mythical MORE 2021-01-19 11:00:01   \n",
       "182    UCWZp4y1jqBuvLtiyxSs_ZBw             Big guy 2021-01-24 22:50:57   \n",
       "...                         ...                 ...                 ...   \n",
       "37300  UCIlr3byh6wmXgcPx_Tm9Ocw             Piwerre 2021-01-16 16:12:19   \n",
       "37329  UCkD-ZOixI0a9FjIExDsHsbg        The Kick Off 2021-01-03 20:13:49   \n",
       "37345  UCO9zJy7HWrIS3ojB4Lr7Yqw           Lil Wayne 2021-01-21 05:00:10   \n",
       "37383  UCo15ZYO_XDRU9LI30OPtxAg       America's Cup 2021-01-15 04:07:55   \n",
       "37418  UCWJ2lWNubArHWmf3FIHbfcQ                 NBA 2021-01-16 05:39:05   \n",
       "\n",
       "       view_count   likes  dislikes  comment_count  \\\n",
       "27         872372   38626       239            621   \n",
       "48        6504784  262477      5779           7907   \n",
       "95         533084   38965       119           1650   \n",
       "103       1057077   22526       531            773   \n",
       "182       1724965  119431       325           1578   \n",
       "...           ...     ...       ...            ...   \n",
       "37300      670357   54462       832           1249   \n",
       "37329      428646   12060       296           1505   \n",
       "37345     2238244   58925      2365           5539   \n",
       "37383      317382    2008        83            192   \n",
       "37418     2841917   20759      1049           2624   \n",
       "\n",
       "                                                    tags  \\\n",
       "27                                                         \n",
       "48                                                         \n",
       "95                                                         \n",
       "103    gmm good mythical morning rhettandlink rhett a...   \n",
       "182    jschlatt big guy jschlatt highlights schlatt j...   \n",
       "...                                                  ...   \n",
       "37300  Piwerre frere de michou crouton among us devin...   \n",
       "37329  Premier league Chelsea chelsea 1-3 Man City Ch...   \n",
       "37345  lil wayne weezy weezy wednesday wayne carter y...   \n",
       "37383  America's Cup Americas Cup AC36 AC75 Presented...   \n",
       "37418  NBA G League Basketball game-0022000187 Lakers...   \n",
       "\n",
       "                                             description published_month  \n",
       "27     Hey Guys!!! this has been the most requested v...             Jan  \n",
       "48     He had no idea! Thank you guys so much for wat...             Jan  \n",
       "95     I am so happy to tell you that I am pregnant!!...             Jan  \n",
       "103    Today, we're doing a blind taste test to deter...             Jan  \n",
       "182                    #jschlatt #schlatt #bigguy #short             Jan  \n",
       "...                                                  ...             ...  \n",
       "37300   Discord Piwerre : https://discord.gg/QBduPgAA...             Jan  \n",
       "37329  The Kick Off watched Manchester City destroy C...             Jan  \n",
       "37345  Official audio for Lil Wayne \"Ain't Got Time\",...             Jan  \n",
       "37383  The opening day of the PRADA Cup in Auckland, ...             Jan  \n",
       "37418  PELICANS at LAKERS | FULL GAME HIGHLIGHTS | Ja...             Jan  \n",
       "\n",
       "[2108 rows x 12 columns]"
      ]
     },
     "execution_count": 24,
     "metadata": {},
     "output_type": "execute_result"
    }
   ],
   "source": [
    "df[df['published_month'] == 'Jan']"
   ]
  },
  {
   "cell_type": "markdown",
   "id": "5a373036-2784-4a23-8ecb-03a1eebc6192",
   "metadata": {},
   "source": [
    "### Count of videos published in January."
   ]
  },
  {
   "cell_type": "code",
   "execution_count": 25,
   "id": "b93f7709-e376-471a-8a77-015ceca7d074",
   "metadata": {},
   "outputs": [
    {
     "data": {
      "text/plain": [
       "2108"
      ]
     },
     "execution_count": 25,
     "metadata": {},
     "output_type": "execute_result"
    }
   ],
   "source": [
    "df[df['published_month'] == 'Jan'].shape[0]"
   ]
  }
 ],
 "metadata": {
  "kernelspec": {
   "display_name": "Python 3 (ipykernel)",
   "language": "python",
   "name": "python3"
  },
  "language_info": {
   "codemirror_mode": {
    "name": "ipython",
    "version": 3
   },
   "file_extension": ".py",
   "mimetype": "text/x-python",
   "name": "python",
   "nbconvert_exporter": "python",
   "pygments_lexer": "ipython3",
   "version": "3.12.2"
  }
 },
 "nbformat": 4,
 "nbformat_minor": 5
}
